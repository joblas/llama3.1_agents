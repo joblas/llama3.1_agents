{
  "nbformat": 4,
  "nbformat_minor": 0,
  "metadata": {
    "colab": {
      "provenance": [],
      "include_colab_link": true
    },
    "kernelspec": {
      "name": "python3",
      "display_name": "Python 3"
    },
    "language_info": {
      "name": "python"
    }
  },
  "cells": [
    {
      "cell_type": "markdown",
      "metadata": {
        "id": "view-in-github",
        "colab_type": "text"
      },
      "source": [
        "<a href=\"https://colab.research.google.com/github/joblas/llama3.1_agents/blob/main/llama3_1_agents.ipynb\" target=\"_parent\"><img src=\"https://colab.research.google.com/assets/colab-badge.svg\" alt=\"Open In Colab\"/></a>"
      ]
    },
    {
      "cell_type": "markdown",
      "source": [
        "# colab.research.google.com"
      ],
      "metadata": {
        "id": "xCak-85EoOnD"
      }
    },
    {
      "cell_type": "code",
      "source": [
        "!pip install groq"
      ],
      "metadata": {
        "id": "_n90Pw1jvv1F",
        "colab": {
          "base_uri": "https://localhost:8080/"
        },
        "outputId": "930979db-fa59-4ba9-b558-518468c592d6"
      },
      "execution_count": null,
      "outputs": [
        {
          "output_type": "stream",
          "name": "stdout",
          "text": [
            "Collecting groq\n",
            "  Downloading groq-0.9.0-py3-none-any.whl.metadata (13 kB)\n",
            "Requirement already satisfied: anyio<5,>=3.5.0 in /usr/local/lib/python3.10/dist-packages (from groq) (3.7.1)\n",
            "Requirement already satisfied: distro<2,>=1.7.0 in /usr/lib/python3/dist-packages (from groq) (1.7.0)\n",
            "Collecting httpx<1,>=0.23.0 (from groq)\n",
            "  Downloading httpx-0.27.0-py3-none-any.whl.metadata (7.2 kB)\n",
            "Requirement already satisfied: pydantic<3,>=1.9.0 in /usr/local/lib/python3.10/dist-packages (from groq) (2.8.2)\n",
            "Requirement already satisfied: sniffio in /usr/local/lib/python3.10/dist-packages (from groq) (1.3.1)\n",
            "Requirement already satisfied: typing-extensions<5,>=4.7 in /usr/local/lib/python3.10/dist-packages (from groq) (4.12.2)\n",
            "Requirement already satisfied: idna>=2.8 in /usr/local/lib/python3.10/dist-packages (from anyio<5,>=3.5.0->groq) (3.7)\n",
            "Requirement already satisfied: exceptiongroup in /usr/local/lib/python3.10/dist-packages (from anyio<5,>=3.5.0->groq) (1.2.2)\n",
            "Requirement already satisfied: certifi in /usr/local/lib/python3.10/dist-packages (from httpx<1,>=0.23.0->groq) (2024.7.4)\n",
            "Collecting httpcore==1.* (from httpx<1,>=0.23.0->groq)\n",
            "  Downloading httpcore-1.0.5-py3-none-any.whl.metadata (20 kB)\n",
            "Collecting h11<0.15,>=0.13 (from httpcore==1.*->httpx<1,>=0.23.0->groq)\n",
            "  Downloading h11-0.14.0-py3-none-any.whl.metadata (8.2 kB)\n",
            "Requirement already satisfied: annotated-types>=0.4.0 in /usr/local/lib/python3.10/dist-packages (from pydantic<3,>=1.9.0->groq) (0.7.0)\n",
            "Requirement already satisfied: pydantic-core==2.20.1 in /usr/local/lib/python3.10/dist-packages (from pydantic<3,>=1.9.0->groq) (2.20.1)\n",
            "Downloading groq-0.9.0-py3-none-any.whl (103 kB)\n",
            "\u001b[2K   \u001b[90m━━━━━━━━━━━━━━━━━━━━━━━━━━━━━━━━━━━━━━━━\u001b[0m \u001b[32m103.5/103.5 kB\u001b[0m \u001b[31m3.3 MB/s\u001b[0m eta \u001b[36m0:00:00\u001b[0m\n",
            "\u001b[?25hDownloading httpx-0.27.0-py3-none-any.whl (75 kB)\n",
            "\u001b[2K   \u001b[90m━━━━━━━━━━━━━━━━━━━━━━━━━━━━━━━━━━━━━━━━\u001b[0m \u001b[32m75.6/75.6 kB\u001b[0m \u001b[31m4.8 MB/s\u001b[0m eta \u001b[36m0:00:00\u001b[0m\n",
            "\u001b[?25hDownloading httpcore-1.0.5-py3-none-any.whl (77 kB)\n",
            "\u001b[2K   \u001b[90m━━━━━━━━━━━━━━━━━━━━━━━━━━━━━━━━━━━━━━━━\u001b[0m \u001b[32m77.9/77.9 kB\u001b[0m \u001b[31m5.8 MB/s\u001b[0m eta \u001b[36m0:00:00\u001b[0m\n",
            "\u001b[?25hDownloading h11-0.14.0-py3-none-any.whl (58 kB)\n",
            "\u001b[2K   \u001b[90m━━━━━━━━━━━━━━━━━━━━━━━━━━━━━━━━━━━━━━━━\u001b[0m \u001b[32m58.3/58.3 kB\u001b[0m \u001b[31m1.2 MB/s\u001b[0m eta \u001b[36m0:00:00\u001b[0m\n",
            "\u001b[?25hInstalling collected packages: h11, httpcore, httpx, groq\n",
            "Successfully installed groq-0.9.0 h11-0.14.0 httpcore-1.0.5 httpx-0.27.0\n"
          ]
        }
      ]
    },
    {
      "cell_type": "code",
      "source": [
        "from groq import Groq"
      ],
      "metadata": {
        "id": "Aw-wRtGlwItv"
      },
      "execution_count": null,
      "outputs": []
    },
    {
      "cell_type": "code",
      "source": [
        "groq_client = Groq(\n",
        "    api_key=\"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\",\n",
        ")"
      ],
      "metadata": {
        "id": "CQmGyOIIwOcF"
      },
      "execution_count": null,
      "outputs": []
    },
    {
      "cell_type": "markdown",
      "source": [
        "# https://console.groq.com/keys"
      ],
      "metadata": {
        "id": "t_hRzc_D4hfj"
      }
    },
    {
      "cell_type": "code",
      "source": [
        "llama_70B = \"llama-3.1-70b-versatile\"\n",
        "llama_405B = \"llama-3.1-405b-reasoning\""
      ],
      "metadata": {
        "id": "j0krq53Cwrpy"
      },
      "execution_count": null,
      "outputs": []
    },
    {
      "cell_type": "code",
      "source": [
        "chat_completion = groq_client.chat.completions.create(\n",
        "    messages=[\n",
        "        {\n",
        "            \"role\": \"user\",\n",
        "            \"content\": \"What exact models are in the Llama 3.1 family that just released? Be specific.\",\n",
        "        }\n",
        "    ],\n",
        "    model=llama_70B,\n",
        ")\n",
        "\n",
        "print(chat_completion.choices[0].message.content)"
      ],
      "metadata": {
        "colab": {
          "base_uri": "https://localhost:8080/"
        },
        "id": "c16s0D-lwZ5W",
        "outputId": "1dc9c642-461b-4bed-8395-2db48e527810"
      },
      "execution_count": null,
      "outputs": [
        {
          "output_type": "stream",
          "name": "stdout",
          "text": [
            "I'm not aware of any information about a \"Llama 3.1 family\" that has just released. I'm a large language model, I don't have have access to real-time information or specific details about upcoming or recently released products. However, I can suggest some possible sources where you may be able to find the information you're looking for:\n",
            "\n",
            "* Official website or press releases from the manufacturer\n",
            "* Tech news websites or blogs\n",
            "* Social media channels of the manufacturer or industry influencers\n",
            "\n",
            "If you could provide more context or clarify what you mean by \"Llama 3.1 family\", I may be able to help you better.\n"
          ]
        }
      ]
    },
    {
      "cell_type": "code",
      "source": [
        "!pip install -q together"
      ],
      "metadata": {
        "colab": {
          "base_uri": "https://localhost:8080/"
        },
        "id": "rG8Iz4hbyA3k",
        "outputId": "553168d0-9b5a-4713-b383-f379386a8603"
      },
      "execution_count": null,
      "outputs": [
        {
          "output_type": "stream",
          "name": "stdout",
          "text": [
            "\u001b[?25l   \u001b[90m━━━━━━━━━━━━━━━━━━━━━━━━━━━━━━━━━━━━━━━━\u001b[0m \u001b[32m0.0/62.5 kB\u001b[0m \u001b[31m?\u001b[0m eta \u001b[36m-:--:--\u001b[0m\r\u001b[2K   \u001b[90m━━━━━━━━━━━━━━━━━━━━━━━━━━━━━━━━━━━━━━━━\u001b[0m \u001b[32m62.5/62.5 kB\u001b[0m \u001b[31m1.6 MB/s\u001b[0m eta \u001b[36m0:00:00\u001b[0m\n",
            "\u001b[?25h\u001b[?25l   \u001b[90m━━━━━━━━━━━━━━━━━━━━━━━━━━━━━━━━━━━━━━━━\u001b[0m \u001b[32m0.0/4.5 MB\u001b[0m \u001b[31m?\u001b[0m eta \u001b[36m-:--:--\u001b[0m\r\u001b[2K   \u001b[91m━━━\u001b[0m\u001b[90m╺\u001b[0m\u001b[90m━━━━━━━━━━━━━━━━━━━━━━━━━━━━━━━━━━━━\u001b[0m \u001b[32m0.4/4.5 MB\u001b[0m \u001b[31m11.3 MB/s\u001b[0m eta \u001b[36m0:00:01\u001b[0m\r\u001b[2K   \u001b[91m━━━━━━━━━━━━━━━━━\u001b[0m\u001b[91m╸\u001b[0m\u001b[90m━━━━━━━━━━━━━━━━━━━━━━\u001b[0m \u001b[32m2.0/4.5 MB\u001b[0m \u001b[31m30.4 MB/s\u001b[0m eta \u001b[36m0:00:01\u001b[0m\r\u001b[2K   \u001b[91m━━━━━━━━━━━━━━━━━━━━━━━━━━━━━━━━━━━━━━━\u001b[0m\u001b[91m╸\u001b[0m \u001b[32m4.5/4.5 MB\u001b[0m \u001b[31m50.7 MB/s\u001b[0m eta \u001b[36m0:00:01\u001b[0m\r\u001b[2K   \u001b[90m━━━━━━━━━━━━━━━━━━━━━━━━━━━━━━━━━━━━━━━━\u001b[0m \u001b[32m4.5/4.5 MB\u001b[0m \u001b[31m39.2 MB/s\u001b[0m eta \u001b[36m0:00:00\u001b[0m\n",
            "\u001b[?25h"
          ]
        }
      ]
    },
    {
      "cell_type": "code",
      "source": [
        "from together import Together"
      ],
      "metadata": {
        "id": "772fa1Sxx1u2"
      },
      "execution_count": null,
      "outputs": []
    },
    {
      "cell_type": "markdown",
      "source": [
        "# https://api.together.ai/settings/api-keys"
      ],
      "metadata": {
        "id": "2tYdR1ao4nOF"
      }
    },
    {
      "cell_type": "code",
      "source": [
        "together_client = Together(api_key=\"764b98703fba01aa580658bb60057ef141594759e5601751ff9ddd7244ce9d39\")"
      ],
      "metadata": {
        "id": "FcXxyIn2x2IP"
      },
      "execution_count": null,
      "outputs": []
    },
    {
      "cell_type": "code",
      "source": [
        "response = together_client.chat.completions.create(\n",
        "    model=\"meta-llama/Meta-Llama-3.1-405B-Instruct-Turbo\",\n",
        "    messages=[\n",
        "        {\n",
        "                \"role\": \"system\",\n",
        "                \"content\": \"you are a helpful assistant. always answer in short. use bullet points.\"\n",
        "        },\n",
        "        {\n",
        "                \"role\": \"user\",\n",
        "                \"content\": \"teach me the basics of Machine Learning. answer in short.\"\n",
        "        }\n",
        "],\n",
        "    max_tokens=699,\n",
        "    temperature=0.11,\n",
        "    top_p=1,\n",
        "    top_k=50,\n",
        "    repetition_penalty=1,\n",
        "    stop=[\"<|eot_id|>\"],\n",
        "    # stream=True\n",
        ")\n",
        "print(response.choices[0].message.content)"
      ],
      "metadata": {
        "colab": {
          "base_uri": "https://localhost:8080/"
        },
        "id": "vL45Zzx0yU-M",
        "outputId": "e099fa51-a681-4594-f4ef-26332d6bbb0f"
      },
      "execution_count": null,
      "outputs": [
        {
          "output_type": "stream",
          "name": "stdout",
          "text": [
            "Here are the basics of Machine Learning:\n",
            "\n",
            "**What is Machine Learning?**\n",
            "* A subset of Artificial Intelligence (AI)\n",
            "* Enables computers to learn from data without being explicitly programmed\n",
            "\n",
            "**Types of Machine Learning:**\n",
            "* **Supervised Learning**: Learn from labeled data\n",
            "* **Unsupervised Learning**: Discover patterns in unlabeled data\n",
            "* **Reinforcement Learning**: Learn from trial and error\n",
            "\n",
            "**Key Concepts:**\n",
            "* **Data**: Input used to train models\n",
            "* **Model**: Mathematical representation of relationships in data\n",
            "* **Training**: Process of adjusting model parameters to fit data\n",
            "* **Prediction**: Using trained model to make predictions on new data\n",
            "\n",
            "**Common Algorithms:**\n",
            "* **Linear Regression**: Predict continuous values\n",
            "* **Decision Trees**: Classify data or make predictions\n",
            "* **Clustering**: Group similar data points together\n",
            "\n",
            "**Next Steps:**\n",
            "* Choose a programming language (e.g., Python, R)\n",
            "* Explore popular libraries (e.g., scikit-learn, TensorFlow)\n",
            "* Practice with tutorials and projects!\n"
          ]
        }
      ]
    },
    {
      "cell_type": "code",
      "source": [
        "def get_user_input():\n",
        "  user_input = input(\"Please enter the industry or company you want to target: \")\n",
        "  return user_input"
      ],
      "metadata": {
        "id": "bz62Mg0E2zEc"
      },
      "execution_count": null,
      "outputs": []
    },
    {
      "cell_type": "code",
      "source": [
        "!pip install openai"
      ],
      "metadata": {
        "id": "wnhHkWRm21On",
        "colab": {
          "base_uri": "https://localhost:8080/"
        },
        "outputId": "9c3a1c4a-a500-4839-8813-e3f394cdebb9"
      },
      "execution_count": null,
      "outputs": [
        {
          "output_type": "stream",
          "name": "stdout",
          "text": [
            "Collecting openai\n",
            "  Downloading openai-1.37.1-py3-none-any.whl.metadata (22 kB)\n",
            "Requirement already satisfied: anyio<5,>=3.5.0 in /usr/local/lib/python3.10/dist-packages (from openai) (3.7.1)\n",
            "Requirement already satisfied: distro<2,>=1.7.0 in /usr/lib/python3/dist-packages (from openai) (1.7.0)\n",
            "Requirement already satisfied: httpx<1,>=0.23.0 in /usr/local/lib/python3.10/dist-packages (from openai) (0.27.0)\n",
            "Requirement already satisfied: pydantic<3,>=1.9.0 in /usr/local/lib/python3.10/dist-packages (from openai) (2.8.2)\n",
            "Requirement already satisfied: sniffio in /usr/local/lib/python3.10/dist-packages (from openai) (1.3.1)\n",
            "Requirement already satisfied: tqdm>4 in /usr/local/lib/python3.10/dist-packages (from openai) (4.66.4)\n",
            "Requirement already satisfied: typing-extensions<5,>=4.7 in /usr/local/lib/python3.10/dist-packages (from openai) (4.12.2)\n",
            "Requirement already satisfied: idna>=2.8 in /usr/local/lib/python3.10/dist-packages (from anyio<5,>=3.5.0->openai) (3.7)\n",
            "Requirement already satisfied: exceptiongroup in /usr/local/lib/python3.10/dist-packages (from anyio<5,>=3.5.0->openai) (1.2.2)\n",
            "Requirement already satisfied: certifi in /usr/local/lib/python3.10/dist-packages (from httpx<1,>=0.23.0->openai) (2024.7.4)\n",
            "Requirement already satisfied: httpcore==1.* in /usr/local/lib/python3.10/dist-packages (from httpx<1,>=0.23.0->openai) (1.0.5)\n",
            "Requirement already satisfied: h11<0.15,>=0.13 in /usr/local/lib/python3.10/dist-packages (from httpcore==1.*->httpx<1,>=0.23.0->openai) (0.14.0)\n",
            "Requirement already satisfied: annotated-types>=0.4.0 in /usr/local/lib/python3.10/dist-packages (from pydantic<3,>=1.9.0->openai) (0.7.0)\n",
            "Requirement already satisfied: pydantic-core==2.20.1 in /usr/local/lib/python3.10/dist-packages (from pydantic<3,>=1.9.0->openai) (2.20.1)\n",
            "Downloading openai-1.37.1-py3-none-any.whl (337 kB)\n",
            "\u001b[?25l   \u001b[90m━━━━━━━━━━━━━━━━━━━━━━━━━━━━━━━━━━━━━━━━\u001b[0m \u001b[32m0.0/337.0 kB\u001b[0m \u001b[31m?\u001b[0m eta \u001b[36m-:--:--\u001b[0m\r\u001b[2K   \u001b[91m━━━━━━━━━━━━━━━━━━━━━━━━━━━━━━━━\u001b[0m\u001b[91m╸\u001b[0m\u001b[90m━━━━━━━\u001b[0m \u001b[32m276.5/337.0 kB\u001b[0m \u001b[31m8.1 MB/s\u001b[0m eta \u001b[36m0:00:01\u001b[0m\r\u001b[2K   \u001b[90m━━━━━━━━━━━━━━━━━━━━━━━━━━━━━━━━━━━━━━━━\u001b[0m \u001b[32m337.0/337.0 kB\u001b[0m \u001b[31m6.4 MB/s\u001b[0m eta \u001b[36m0:00:00\u001b[0m\n",
            "\u001b[?25hInstalling collected packages: openai\n",
            "Successfully installed openai-1.37.1\n"
          ]
        }
      ]
    },
    {
      "cell_type": "code",
      "source": [
        "from openai import OpenAI"
      ],
      "metadata": {
        "id": "TjQrhWpK3sjs"
      },
      "execution_count": null,
      "outputs": []
    },
    {
      "cell_type": "code",
      "source": [
        "openai_client = OpenAI(\n",
        "    api_key=\"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\",\n",
        "    base_url=\"https://api.perplexity.ai\"\n",
        ")"
      ],
      "metadata": {
        "id": "IGPicFt63xcO"
      },
      "execution_count": null,
      "outputs": []
    },
    {
      "cell_type": "code",
      "source": [
        "# chat completion without streaming\n",
        "response = openai_client.chat.completions.create(\n",
        "    model=\"llama-3-sonar-large-32k-online\",\n",
        "    messages=[\n",
        "    {\"role\": \"system\", \"content\": \"You are an AI assistnat. always answer with a concise bullet list.\"},\n",
        "    {\"role\": \"user\", \"content\": \"What exact models are in the Llama 3.1 family that just released? Be specific.\"}\n",
        "    ],\n",
        ")\n",
        "print(response.choices[0].message.content)"
      ],
      "metadata": {
        "colab": {
          "base_uri": "https://localhost:8080/"
        },
        "id": "7S15p89d4RyK",
        "outputId": "2b3cbd0a-0f4d-438c-faea-8bcea8214605"
      },
      "execution_count": null,
      "outputs": [
        {
          "output_type": "stream",
          "name": "stdout",
          "text": [
            "- **Llama 3.1 405B**: The largest open source foundation model with over 400 billion parameters.\n",
            "- **Llama 3.1 70B**: An upgraded version of the 70 billion parameter model.\n",
            "- **Llama 3.1 8B**: An upgraded version of the 8 billion parameter model.\n",
            "- **LlamaGuard**: A model designed for safety and security.\n",
            "- **Llama Stack**: A set of related software built on top of and around the AI models themselves, including guardrails software and security software.\n"
          ]
        }
      ]
    },
    {
      "cell_type": "code",
      "source": [
        "def query_agent(target):\n",
        "    response = together_client.chat.completions.create(\n",
        "        model=\"meta-llama/Meta-Llama-3.1-405B-Instruct-Turbo\",\n",
        "        messages=[\n",
        "            {\n",
        "                \"role\": \"system\",\n",
        "                \"content\": \"\"\"You are an AI assistant that writes concise search queries for market research.\n",
        "                Create 4 short search queries based on the given target industry or company.\n",
        "                Query 01: biggest pain points faced by this avatar\n",
        "                Query 02: biggest companies in this industry\n",
        "                Query 03: how companies in this industry get clients\n",
        "                Query 04: where to find companeis in this industry online\n",
        "                IMPORTANT: Respond with only the queries, one per line.\"\"\"\n",
        "            },\n",
        "            {\n",
        "                \"role\": \"user\",\n",
        "                \"content\": f\"Here's the industry / company to perform market research on: #### {target} ####\"\n",
        "            }\n",
        "        ],\n",
        "        max_tokens=150,\n",
        "        temperature=0.7,\n",
        "        top_p=1,\n",
        "        top_k=50,\n",
        "        repetition_penalty=1,\n",
        "        stop=[\"<|eot_id|>\"]\n",
        "    )\n",
        "    queries = response.choices[0].message.content.split('\\n')\n",
        "    return [query.strip() for query in queries if query.strip()]"
      ],
      "metadata": {
        "id": "Rgi9M1Y68DtB"
      },
      "execution_count": null,
      "outputs": []
    },
    {
      "cell_type": "code",
      "source": [
        "generated_queries = query_agent(get_user_input())\n",
        "generated_queries"
      ],
      "metadata": {
        "colab": {
          "base_uri": "https://localhost:8080/"
        },
        "id": "OD9dhiMO8EfH",
        "outputId": "2b382125-df96-4876-b56b-db8db4e09630"
      },
      "execution_count": null,
      "outputs": [
        {
          "name": "stdout",
          "output_type": "stream",
          "text": [
            "Please enter the industry or company you want to target: Gaming PC , Golfing Sim, Driving Sim\n"
          ]
        },
        {
          "output_type": "execute_result",
          "data": {
            "text/plain": [
              "['Here are the 4 search queries:',\n",
              " 'biggest pain points faced by gaming pc and simulator enthusiasts',\n",
              " 'largest gaming pc and simulator companies golfing sim driving sim',\n",
              " 'how do gaming pc and simulator companies acquire new clients and customers',\n",
              " 'gaming pc and simulator companies online directories forums and communities']"
            ]
          },
          "metadata": {},
          "execution_count": 16
        }
      ]
    },
    {
      "cell_type": "code",
      "source": [
        "def web_search_agent(query):\n",
        "    response = openai_client.chat.completions.create(\n",
        "        model=\"llama-3-sonar-large-32k-online\",\n",
        "        messages=[\n",
        "            {\"role\": \"system\", \"content\": \"You are a web search assistant. Provide a concise summary of the search results.\"},\n",
        "            {\"role\": \"user\", \"content\": f\"Search the web for: {query}\"}\n",
        "        ],\n",
        "    )\n",
        "    return response.choices[0].message.content"
      ],
      "metadata": {
        "id": "XTxeasLzAPQH"
      },
      "execution_count": null,
      "outputs": []
    },
    {
      "cell_type": "code",
      "source": [
        "# Example usage\n",
        "search_results = []\n",
        "for query in generated_queries:\n",
        "    print(\"Searching for...\", query)\n",
        "    result = web_search_agent(query)\n",
        "    search_results.append(result)"
      ],
      "metadata": {
        "id": "29wA8wooAORh",
        "colab": {
          "base_uri": "https://localhost:8080/"
        },
        "outputId": "aefb7078-a5e9-4d57-85e5-610e8b44fbe5"
      },
      "execution_count": null,
      "outputs": [
        {
          "output_type": "stream",
          "name": "stdout",
          "text": [
            "Searching for... Here are the 4 search queries:\n",
            "Searching for... biggest pain points faced by gaming pc and simulator enthusiasts\n",
            "Searching for... largest gaming pc and simulator companies golfing sim driving sim\n",
            "Searching for... how do gaming pc and simulator companies acquire new clients and customers\n",
            "Searching for... gaming pc and simulator companies online directories forums and communities\n"
          ]
        }
      ]
    },
    {
      "cell_type": "code",
      "source": [
        "search_results"
      ],
      "metadata": {
        "id": "7rbWb4rGCSw9",
        "colab": {
          "base_uri": "https://localhost:8080/"
        },
        "outputId": "134d6c7c-afb6-48a9-8751-c2b9371182cb"
      },
      "execution_count": null,
      "outputs": [
        {
          "output_type": "execute_result",
          "data": {
            "text/plain": [
              "['The four main types of search queries are:\\n\\n1. **Informational Search Queries**: These are used by people to find information on a wide range of topics. They are often characterized by keywords like \"what,\" \"how,\" or \"why.\" Examples include \"what is SEO\" or \"how to use Google Analytics.\" These queries are typically monetized by creating high-quality, informative content that answers the user\\'s question.\\n\\n2. **Navigational Search Queries**: These are used to find specific websites or web pages. They often involve typing a brand name or website name into the search bar. Examples include \"Facebook\" or \"Target.\" These queries are difficult to target unless you own the website the user is searching for.\\n\\n3. **Transactional Search Queries**: These are used when users intend to complete a transaction, such as making a purchase. They often include keywords like \"buy,\" \"purchase,\" or \"order.\" Examples include \"buy coffee maker\" or \"order flowers online.\" These queries are valuable as they indicate a high intent to convert and can be targeted by optimizing for relevant products or services.\\n\\n4. **Commercial Investigation Search Queries**: These are used when users are researching products or services before making a purchase. They often involve comparing different options or reading reviews. Examples include \"best coffee makers\" or \"top-rated restaurants.\" These queries can be targeted by providing detailed product information, reviews, and comparisons.',\n",
              " 'The biggest pain points faced by gaming PC and simulator enthusiasts include:\\n\\n1. **Slow Game Loading and Bandwidth Issues**: About 51% of respondents highlighted slow game loading and bandwidth issues as major pain points, with slow storage being the biggest bottleneck for fast game loading.\\n\\n2. **High Hardware Costs**: Gamers face high prices for hardware, which can be a significant financial burden.\\n\\n3. **Poor Game Optimization**: Many modern games are plagued by poor optimization, leading to issues like stuttering, crashes, and performance problems, making it difficult to trust that a new game will run smoothly on PC.\\n\\n4. **Unfinished Games and Monetization**: Gamers are frustrated with games being released in unfinished states, and monetization-oriented game design that prioritizes sales over quality and creativity.\\n\\n5. **Limited Storage and Deleting Old Titles**: Gamers often have to delete old titles due to running out of storage, with many storing more than 10 titles on their PCs.\\n\\n6. **Expensive Upgrades**: The cost of upgrading PCs to enable features required by modern games can be prohibitively expensive, leaving many powerful PCs behind without an easy upgrade path.\\n\\nThese pain points highlight the challenges gamers face in terms of performance, cost, and overall gaming experience.',\n",
              " 'The largest gaming PC and simulator companies for golfing and driving simulations include:\\n\\n1. **FlightScope**: Known for their portable golf launch monitors and simulators, FlightScope offers advanced technology for accurate and immersive golfing experiences. Their Mevo+ launch monitor is highly praised for its accuracy and features like video recording and data analysis.\\n\\n2. **TruGolf**: TruGolf provides industry-leading indoor golf simulators for home, office, and training facilities. Their systems are designed for lasting performance and aesthetic flexibility, offering premium soft goods and state-of-the-art technology.\\n\\n3. **Foresight Sports**: Foresight Sports is recognized for their high-end golf simulators, particularly the QuadMAX, which is considered one of the best outdoor golf simulators. It features advanced data tracking and a customizable touchscreen display.\\n\\n4. **Shop Indoor Golf**: This company offers a range of golf simulator packages and accessories, including the SkyTrak Sig10 Golf Simulator Package. They provide comprehensive guides and expert tips for setting up and optimizing golf simulators in garages and other spaces.\\n\\nThese companies are prominent in the golf simulator market, offering advanced technology and immersive experiences for golf enthusiasts.',\n",
              " 'Gaming PC and simulator companies acquire new clients and customers through various strategies, including:\\n\\n1. **Digital Marketing**: Companies invest heavily in digital marketing to reach their target audience. This includes targeted advertising on social media, search engines, and gaming platforms to create immersive and engaging ads that drive sales.\\n\\n2. **Social Media**: Social media platforms are leveraged to engage with potential customers, promote products, and build brand awareness. Influencers and affiliates are often partnered with to expand the reach of marketing efforts.\\n\\n3. **Search Engine Optimization (SEO)**: Companies optimize their websites to rank higher in search engine results pages (SERPs) for relevant keywords, driving organic traffic and new customer registrations.\\n\\n4. **Pay-Per-Click (PPC) Advertising**: PPC campaigns are used to target specific keywords and demographics, ensuring that ads are shown to potential customers who are actively searching for gaming PCs or simulators.\\n\\n5. **Email Marketing**: Building an email list of subscribers allows companies to promote new products, updates, and offers directly to engaged customers, keeping them informed and encouraging repeat business.\\n\\n6. **Affiliate Marketing**: Partnering with affiliates and influencers in the gaming industry helps companies reach new audiences and drive sign-ups. Competitive commission rates, marketing materials, and regular updates are offered to motivate affiliates.\\n\\n7. **Customer Service**: Providing excellent customer service, including support for custom builds and repairs, helps build a loyal customer base and generates positive word-of-mouth.\\n\\n8. **Local Business Outreach**: Companies may focus on serving local businesses that need custom-built PCs or IT services, providing a steady stream of revenue.\\n\\n9. **Interactive Websites**: Creating interactive and visually appealing websites helps showcase products and services, demonstrating expertise and consistency in branding and execution.\\n\\n10. **Community Engagement**: Engaging with gaming communities through forums, social media, and events helps build brand awareness and generates interest in products and services.\\n\\nBy implementing these strategies, gaming PC and simulator companies can effectively acquire new clients and customers, driving growth and revenue.',\n",
              " \"The search results provide a comprehensive overview of online directories, forums, and communities focused on gaming PCs and simulators. Here are the key findings:\\n\\n1. **PCPartPicker**: A platform that offers part selection, pricing, and compatibility guidance for do-it-yourself computer builders. It includes build guides, completed builds, and a community forum for discussing various aspects of PC building.\\n\\n2. **PC Gamer Forums**: A community dedicated to discussing PC games, hardware, and troubleshooting. It features sub-forums for different genres, hardware, and general gaming discussions.\\n\\n3. **Reddit's r/PCGaming**: A subreddit for PC gaming news and discussion. It includes a tech support and basic questions thread where users can ask for help with hardware or software issues.\\n\\n4. **Top Gaming Forums**: A list of 90 gaming forums, including PC Gamer Forums, ResetEra, VGR, and others. These forums cover a wide range of topics, from general gaming discussions to specific genres and hardware.\\n\\nThese resources provide a wealth of information and community support for those interested in gaming PCs and simulators.\"]"
            ]
          },
          "metadata": {},
          "execution_count": 19
        }
      ]
    },
    {
      "cell_type": "code",
      "source": [
        "def cold_email_agent(target, search_results):\n",
        "    # Combine all search results into a single string\n",
        "    combined_results = \"\\n\".join(search_results)\n",
        "\n",
        "    response = together_client.chat.completions.create(\n",
        "        model=\"meta-llama/Meta-Llama-3.1-405B-Instruct-Turbo\",\n",
        "        messages=[\n",
        "            {\n",
        "                \"role\": \"system\",\n",
        "                \"content\": \"\"\"You are an expert cold email writer.\n",
        "                Your task is to write concise and personalized cold emails based on the Market Research given to you.\n",
        "                Make sure to utilize all 4 areas of the research I(pain points, companies, clients, and online sources)\n",
        "                Focus on describing what the target avatar will get, add an appealing guarantee.\n",
        "                Keep the email concise and use plain English.\n",
        "                DO NOT OUTPUT ANY OTHER TEXT !!! ONLY THE COLD EMAIL ITSELF!.\n",
        "                \"\"\"\n",
        "            },\n",
        "            {\n",
        "                \"role\": \"user\",\n",
        "                \"content\": f\"Here is the target avatar: {target} \\n Here is the market research: #### {combined_results} #### ONLY OUTPUT THE EMAIL ITSELF. NO OTHER TEXT!!\"\n",
        "            }\n",
        "        ],\n",
        "        max_tokens=500,\n",
        "        temperature=0.1,\n",
        "        top_p=1,\n",
        "        top_k=50,\n",
        "        repetition_penalty=1,\n",
        "        stop=[\"<|eot_id|>\"]\n",
        "    )\n",
        "\n",
        "    return response.choices[0].message.content"
      ],
      "metadata": {
        "id": "hpjmlPuHAtvE"
      },
      "execution_count": null,
      "outputs": []
    },
    {
      "cell_type": "code",
      "source": [
        "user_input = get_user_input()"
      ],
      "metadata": {
        "colab": {
          "base_uri": "https://localhost:8080/"
        },
        "id": "oNghIsz1Dhix",
        "outputId": "2bd098f9-6cc5-4769-e48d-0e74359a8a14"
      },
      "execution_count": null,
      "outputs": [
        {
          "name": "stdout",
          "output_type": "stream",
          "text": [
            "Please enter the industry or company you want to target: gaming pc, golfing sim, driving sim\n"
          ]
        }
      ]
    },
    {
      "cell_type": "code",
      "source": [
        "generated_queries = query_agent(user_input)\n",
        "generated_queries"
      ],
      "metadata": {
        "colab": {
          "base_uri": "https://localhost:8080/"
        },
        "id": "LdocS43EDsFq",
        "outputId": "f0a88f80-df94-411c-8b96-865dad5363f4"
      },
      "execution_count": null,
      "outputs": [
        {
          "output_type": "execute_result",
          "data": {
            "text/plain": [
              "['Here are the search queries:',\n",
              " 'biggest pain points faced by gaming pc simulator entrepreneurs',\n",
              " 'largest companies in the gaming simulator industry',\n",
              " 'how golfing and driving simulator companies acquire clients',\n",
              " 'online directories for gaming simulator manufacturers and suppliers']"
            ]
          },
          "metadata": {},
          "execution_count": 22
        }
      ]
    },
    {
      "cell_type": "code",
      "source": [
        "# Example usage\n",
        "search_results = []\n",
        "for query in generated_queries:\n",
        "    print(\"Searching for...\", query)\n",
        "    result = web_search_agent(query)\n",
        "    search_results.append(result)"
      ],
      "metadata": {
        "colab": {
          "base_uri": "https://localhost:8080/"
        },
        "id": "g_qGjOjBD02Z",
        "outputId": "b24f38d1-77b1-493b-e59b-db156bd6e2cf"
      },
      "execution_count": null,
      "outputs": [
        {
          "output_type": "stream",
          "name": "stdout",
          "text": [
            "Searching for... Here are the search queries:\n",
            "Searching for... biggest pain points faced by gaming pc simulator entrepreneurs\n",
            "Searching for... largest companies in the gaming simulator industry\n",
            "Searching for... how golfing and driving simulator companies acquire clients\n",
            "Searching for... online directories for gaming simulator manufacturers and suppliers\n"
          ]
        }
      ]
    },
    {
      "cell_type": "code",
      "source": [
        "# Example usage\n",
        "cold_email = cold_email_agent(user_input, search_results)\n",
        "print(cold_email)"
      ],
      "metadata": {
        "colab": {
          "base_uri": "https://localhost:8080/"
        },
        "id": "bKlUtSZrDLv9",
        "outputId": "6ee94b34-23fc-4d44-e002-6519f2ca2a27"
      },
      "execution_count": null,
      "outputs": [
        {
          "output_type": "stream",
          "name": "stdout",
          "text": [
            "Here is a concise and personalized cold email:\n",
            "\n",
            "Subject: Unlock the Full Potential of Your Gaming Simulator Business\n",
            "\n",
            "Dear [Name],\n",
            "\n",
            "As a gaming PC simulator entrepreneur, I'm sure you're no stranger to the challenges of staying motivated and competitive in the VR gaming industry. You're likely tired of dealing with poorly built pre-built PCs, limited content availability, and the high cost of VR equipment.\n",
            "\n",
            "But what if I told you there's a way to overcome these obstacles and take your business to the next level? Our team specializes in helping gaming simulator companies like yours innovate and differentiate themselves in the market.\n",
            "\n",
            "With our expertise, you'll be able to:\n",
            "\n",
            "* Create unique experiences that set you apart from the competition\n",
            "* Identify and target your ideal audience with precision\n",
            "* Develop a robust online presence that drives real results\n",
            "\n",
            "And, as a valued client, you'll receive a 30-day money-back guarantee. If you're not completely satisfied with our services, we'll refund your investment in full.\n",
            "\n",
            "Ready to unlock the full potential of your gaming simulator business? Let's schedule a call to discuss your goals and challenges.\n",
            "\n",
            "Best regards,\n",
            "[Your Name]\n"
          ]
        }
      ]
    },
    {
      "cell_type": "markdown",
      "source": [
        "# ollama.com"
      ],
      "metadata": {
        "id": "Liff-oebGDqi"
      }
    },
    {
      "cell_type": "code",
      "source": [],
      "metadata": {
        "id": "Q6SK8Wk_Exue"
      },
      "execution_count": null,
      "outputs": []
    }
  ]
}